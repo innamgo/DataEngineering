{
 "cells": [
  {
   "cell_type": "markdown",
   "id": "bb5775ea-2294-47cb-b20e-745eaa42f577",
   "metadata": {},
   "source": [
    "<H1>sqlite3로 문서 검증 자동화</H1>\n",
    "\n",
    "python sqlite3 document : https://docs.python.org/3/library/sqlite3.html  \n",
    "jupyter markdown : https://jupyter-notebook.readthedocs.io/en/stable/examples/Notebook/Working%20With%20Markdown%20Cells.html\n",
    "\n",
    "```python\n",
    "print \"Hello World\"\n",
    "```"
   ]
  },
  {
   "cell_type": "code",
   "execution_count": 9,
   "id": "443543f5-fb54-4075-88ef-fba8182c8077",
   "metadata": {},
   "outputs": [],
   "source": [
    "import sqlite3"
   ]
  },
  {
   "cell_type": "code",
   "execution_count": 10,
   "id": "5bee6356-b0a5-466e-9380-eeed1da0cd06",
   "metadata": {},
   "outputs": [],
   "source": [
    "dbconnection = sqlite3.connect(\":memory:\")"
   ]
  },
  {
   "cell_type": "code",
   "execution_count": 11,
   "id": "d2028d4a-4f22-4ac1-b4cc-396072c81943",
   "metadata": {},
   "outputs": [
    {
     "data": {
      "text/plain": [
       "<sqlite3.Cursor at 0x7f82bc079ab0>"
      ]
     },
     "execution_count": 11,
     "metadata": {},
     "output_type": "execute_result"
    }
   ],
   "source": [
    "cur = dbconnection.cursor()\n",
    "cur.execute(\"create table project_output(key_name TEXT, val TEXT)\")"
   ]
  },
  {
   "cell_type": "code",
   "execution_count": 14,
   "id": "3c3ac885-b84b-4eb8-a719-82bc55646a08",
   "metadata": {},
   "outputs": [
    {
     "data": {
      "text/plain": [
       "[('table',\n",
       "  'project_output',\n",
       "  'project_output',\n",
       "  2,\n",
       "  'CREATE TABLE project_output(key_name TEXT, val TEXT)')]"
      ]
     },
     "execution_count": 14,
     "metadata": {},
     "output_type": "execute_result"
    }
   ],
   "source": [
    "res = cur.execute(\"SELECT * FROM sqlite_master\")\n",
    "res.fetchall()"
   ]
  }
 ],
 "metadata": {
  "kernelspec": {
   "display_name": "Python 3",
   "language": "python",
   "name": "python3"
  },
  "language_info": {
   "codemirror_mode": {
    "name": "ipython",
    "version": 3
   },
   "file_extension": ".py",
   "mimetype": "text/x-python",
   "name": "python",
   "nbconvert_exporter": "python",
   "pygments_lexer": "ipython3",
   "version": "3.7.10"
  }
 },
 "nbformat": 4,
 "nbformat_minor": 5
}
